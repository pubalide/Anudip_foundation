{
 "cells": [
  {
   "cell_type": "code",
   "execution_count": 1,
   "id": "964e1609-25a4-432f-8fc4-d4b42e549e70",
   "metadata": {},
   "outputs": [],
   "source": [
    "import pandas as pd"
   ]
  },
  {
   "cell_type": "code",
   "execution_count": 6,
   "id": "a5e7f0f4-f8b7-4cc7-a5ba-e31d55880b0c",
   "metadata": {},
   "outputs": [
    {
     "name": "stdout",
     "output_type": "stream",
     "text": [
      "Original DataFrame:\n",
      "   Math  English  Hindi  Science\n",
      "0  12.0      4.0   20.0     14.0\n",
      "1   4.0      3.0   16.0      3.0\n",
      "2   7.0     57.0    NaN      NaN\n",
      "3   NaN      3.0    3.0      NaN\n",
      "4   2.0      NaN    8.0      6.0\n"
     ]
    }
   ],
   "source": [
    "# Input given DataFrame\n",
    "df = pd.DataFrame({\"Math\":[12, 4, 7, None, 2],\n",
    "\"English\":[4, 3, 57, 3, None],\n",
    "\"Hindi\":[20, 16, None, 3, 8],\n",
    "\"Science\":[14, 3, None, None, 6]})\n",
    "# Interpolate missing values\n",
    "df_interpolated = df.interpolate()\n",
    "# Display the original DataFrame\n",
    "print(\"Original DataFrame:\")\n",
    "print(df)\n"
   ]
  },
  {
   "cell_type": "code",
   "execution_count": 8,
   "id": "ab160ef6-e22f-4058-849e-a0f4cffc636a",
   "metadata": {},
   "outputs": [
    {
     "name": "stdout",
     "output_type": "stream",
     "text": [
      "\n",
      "DataFrame after interpolation:\n",
      "   Math  English  Hindi  Science\n",
      "0  12.0      4.0   20.0     14.0\n",
      "1   4.0      3.0   16.0      3.0\n",
      "2   7.0     57.0    9.5      4.0\n",
      "3   4.5      3.0    3.0      5.0\n",
      "4   2.0      3.0    8.0      6.0\n"
     ]
    }
   ],
   "source": [
    "# Display after fill in the missing values\n",
    "print(\"\\nDataFrame after interpolation:\")\n",
    "print(df_interpolated)"
   ]
  },
  {
   "cell_type": "code",
   "execution_count": null,
   "id": "582474ff-bff8-42ab-9058-0dfd5da75942",
   "metadata": {},
   "outputs": [],
   "source": []
  }
 ],
 "metadata": {
  "kernelspec": {
   "display_name": "Python 3 (ipykernel)",
   "language": "python",
   "name": "python3"
  },
  "language_info": {
   "codemirror_mode": {
    "name": "ipython",
    "version": 3
   },
   "file_extension": ".py",
   "mimetype": "text/x-python",
   "name": "python",
   "nbconvert_exporter": "python",
   "pygments_lexer": "ipython3",
   "version": "3.12.0"
  }
 },
 "nbformat": 4,
 "nbformat_minor": 5
}
