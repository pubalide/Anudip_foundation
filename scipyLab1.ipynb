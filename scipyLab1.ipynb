{
 "cells": [
  {
   "cell_type": "code",
   "execution_count": 1,
   "id": "e052b7ea-0448-49f4-a464-3f3c6d5c0b68",
   "metadata": {},
   "outputs": [],
   "source": [
    "import pandas as pd"
   ]
  },
  {
   "cell_type": "code",
   "execution_count": 20,
   "id": "920de8bb-f3ae-483e-8d04-b9115c762d53",
   "metadata": {},
   "outputs": [
    {
     "name": "stdout",
     "output_type": "stream",
     "text": [
      "   CircleName    Radius\n",
      "0         SAY  3.798717\n",
      "1         PSN  9.958397\n",
      "2         JDP  5.142711\n",
      "3         AUO  3.319584\n",
      "4         OHG  1.138395\n",
      "..        ...       ...\n",
      "95        PVZ  7.798122\n",
      "96        SQR  5.133239\n",
      "97        NSM  9.761868\n",
      "98        SXE  6.774164\n",
      "99        JNT  2.823492\n",
      "\n",
      "[100 rows x 2 columns]\n"
     ]
    }
   ],
   "source": [
    "github_link_csv = 'https://raw.githubusercontent.com/AnudipAE/DANLC/master/radius_data.csv'\n",
    "# Use read_csv for CSV file\n",
    "df = pd.read_csv(github_link_csv)\n",
    "print(df)"
   ]
  },
  {
   "cell_type": "code",
   "execution_count": 18,
   "id": "c190a8a3-6b06-4a36-9d3e-42758cc2f336",
   "metadata": {},
   "outputs": [
    {
     "name": "stdout",
     "output_type": "stream",
     "text": [
      "3.141592653589793\n"
     ]
    }
   ],
   "source": [
    "#Use scipy constant\n",
    "from scipy import constants as cons\n",
    "print(cons.pi)"
   ]
  },
  {
   "cell_type": "code",
   "execution_count": 23,
   "id": "eb0b4e6c-4a2c-4140-a251-da4f72c25784",
   "metadata": {},
   "outputs": [
    {
     "data": {
      "text/html": [
       "<div>\n",
       "<style scoped>\n",
       "    .dataframe tbody tr th:only-of-type {\n",
       "        vertical-align: middle;\n",
       "    }\n",
       "\n",
       "    .dataframe tbody tr th {\n",
       "        vertical-align: top;\n",
       "    }\n",
       "\n",
       "    .dataframe thead th {\n",
       "        text-align: right;\n",
       "    }\n",
       "</style>\n",
       "<table border=\"1\" class=\"dataframe\">\n",
       "  <thead>\n",
       "    <tr style=\"text-align: right;\">\n",
       "      <th></th>\n",
       "      <th>CircleName</th>\n",
       "      <th>Radius</th>\n",
       "      <th>Area</th>\n",
       "    </tr>\n",
       "  </thead>\n",
       "  <tbody>\n",
       "    <tr>\n",
       "      <th>0</th>\n",
       "      <td>SAY</td>\n",
       "      <td>3.798717</td>\n",
       "      <td>45.333970</td>\n",
       "    </tr>\n",
       "    <tr>\n",
       "      <th>1</th>\n",
       "      <td>PSN</td>\n",
       "      <td>9.958397</td>\n",
       "      <td>311.550709</td>\n",
       "    </tr>\n",
       "    <tr>\n",
       "      <th>2</th>\n",
       "      <td>JDP</td>\n",
       "      <td>5.142711</td>\n",
       "      <td>83.087198</td>\n",
       "    </tr>\n",
       "    <tr>\n",
       "      <th>3</th>\n",
       "      <td>AUO</td>\n",
       "      <td>3.319584</td>\n",
       "      <td>34.619214</td>\n",
       "    </tr>\n",
       "    <tr>\n",
       "      <th>4</th>\n",
       "      <td>OHG</td>\n",
       "      <td>1.138395</td>\n",
       "      <td>4.071326</td>\n",
       "    </tr>\n",
       "  </tbody>\n",
       "</table>\n",
       "</div>"
      ],
      "text/plain": [
       "  CircleName    Radius        Area\n",
       "0        SAY  3.798717   45.333970\n",
       "1        PSN  9.958397  311.550709\n",
       "2        JDP  5.142711   83.087198\n",
       "3        AUO  3.319584   34.619214\n",
       "4        OHG  1.138395    4.071326"
      ]
     },
     "execution_count": 23,
     "metadata": {},
     "output_type": "execute_result"
    }
   ],
   "source": [
    "# Program to calculate the area of a circle\n",
    "data={'CircleName':['SAY','PSN','JDP','AUO','OHG'],'Radius':[3.798717,9.958397,5.142711,3.319584,1.138395]}\n",
    "df=pd.DataFrame(data)\n",
    "df['Area']=df['Radius']**2 * cons.pi\n",
    "#save the file\n",
    "df.to_csv('Area.csv',index=False)\n",
    "#display the first 5 records\n",
    "df.head()"
   ]
  },
  {
   "cell_type": "code",
   "execution_count": null,
   "id": "11eada2c-0b1e-4f19-b93e-4b3024d5a722",
   "metadata": {},
   "outputs": [],
   "source": []
  }
 ],
 "metadata": {
  "kernelspec": {
   "display_name": "Python 3 (ipykernel)",
   "language": "python",
   "name": "python3"
  },
  "language_info": {
   "codemirror_mode": {
    "name": "ipython",
    "version": 3
   },
   "file_extension": ".py",
   "mimetype": "text/x-python",
   "name": "python",
   "nbconvert_exporter": "python",
   "pygments_lexer": "ipython3",
   "version": "3.12.0"
  }
 },
 "nbformat": 4,
 "nbformat_minor": 5
}
