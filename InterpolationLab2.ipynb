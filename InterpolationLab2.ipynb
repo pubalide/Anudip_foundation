{
 "cells": [
  {
   "cell_type": "code",
   "execution_count": 19,
   "id": "415b12a2-21ff-448c-ab04-23dbf856cd98",
   "metadata": {},
   "outputs": [],
   "source": [
    "import pandas as pd\n",
    "import numpy as np\n",
    "import matplotlib.pyplot as plt"
   ]
  },
  {
   "cell_type": "code",
   "execution_count": 20,
   "id": "e99778b2-dd64-4f71-ba1b-8553edfc6672",
   "metadata": {},
   "outputs": [
    {
     "name": "stdout",
     "output_type": "stream",
     "text": [
      "Original DataFrame:\n",
      "     Subject  Student_A  Student_B  Student_C\n",
      "0       Math       80.0       90.0       80.0\n",
      "1    Physics       85.0        NaN       88.0\n",
      "2  Chemistry        NaN       75.0        NaN\n",
      "3    Biology       70.0       85.0       78.0\n"
     ]
    },
    {
     "name": "stderr",
     "output_type": "stream",
     "text": [
      "C:\\Users\\HP\\AppData\\Local\\Temp\\ipykernel_3980\\2971781877.py:9: FutureWarning: DataFrame.interpolate with object dtype is deprecated and will raise in a future version. Call obj.infer_objects(copy=False) before interpolating instead.\n",
      "  df_interpolated = df.interpolate()\n"
     ]
    }
   ],
   "source": [
    "# Input given Data\n",
    "data = {'Subject': ['Math', 'Physics', 'Chemistry', 'Biology'],\n",
    "'Student_A': [80, 85, np.nan, 70],\n",
    "'Student_B': [90, np.nan, 75, 85],\n",
    "'Student_C': [80, 88, np.nan, 78]}\n",
    "# create Dataframe\n",
    "df = pd.DataFrame(data)\n",
    "# Interpolate missing values\n",
    "df_interpolated = df.interpolate()\n",
    "# Display the original DataFrame\n",
    "print(\"Original DataFrame:\")\n",
    "print(df)\n"
   ]
  },
  {
   "cell_type": "code",
   "execution_count": 21,
   "id": "08173dae-b3f5-4802-a78c-1ef2ba6a6590",
   "metadata": {},
   "outputs": [
    {
     "name": "stdout",
     "output_type": "stream",
     "text": [
      "\n",
      "DataFrame after interpolation:\n",
      "     Subject  Student_A  Student_B  Student_C\n",
      "0       Math       80.0       90.0       80.0\n",
      "1    Physics       85.0       82.5       88.0\n",
      "2  Chemistry       77.5       75.0       83.0\n",
      "3    Biology       70.0       85.0       78.0\n"
     ]
    }
   ],
   "source": [
    "# Display after fill in the missing values\n",
    "print(\"\\nDataFrame after interpolation:\")\n",
    "print(df_interpolated)"
   ]
  },
  {
   "cell_type": "code",
   "execution_count": 22,
   "id": "de4345a3-59ed-4a04-a605-a06b2412da24",
   "metadata": {},
   "outputs": [
    {
     "name": "stdout",
     "output_type": "stream",
     "text": [
      "     Subject  Highest_Score\n",
      "0       Math           90.0\n",
      "1    Physics           88.0\n",
      "2  Chemistry           75.0\n",
      "3    Biology           85.0\n"
     ]
    }
   ],
   "source": [
    "# Find subject-wise highest scores\n",
    "subjectwise_highest_scores = df.set_index('Subject').max(axis=1).reset_index(name='Highest_Score')\n",
    "print(subjectwise_highest_scores)"
   ]
  },
  {
   "cell_type": "code",
   "execution_count": 23,
   "id": "32ea8aeb-d272-4376-8538-857b03cce263",
   "metadata": {},
   "outputs": [
    {
     "data": {
      "image/png": "[encoded data removed]",
      "text/plain": [
       "<Figure size 640x480 with 1 Axes>"
      ]
     },
     "metadata": {},
     "output_type": "display_data"
    }
   ],
   "source": [
    "# Plot the data\n",
    "plt.bar(subjectwise_highest_scores['Subject'], subjectwise_highest_scores['Highest_Score'], color='skyblue')\n",
    "plt.xlabel('Subject')\n",
    "plt.ylabel('Highest Score')\n",
    "plt.title('Subject-wise Highest Scores after Interpolation')\n",
    "plt.show()"
   ]
  },
  {
   "cell_type": "code",
   "execution_count": null,
   "id": "154e7798-d484-43b4-a1e8-147671158026",
   "metadata": {},
   "outputs": [],
   "source": [
    "#from this above bar plot,Students get low marks in chemistry."
   ]
  }
 ],
 "metadata": {
  "kernelspec": {
   "display_name": "Python 3 (ipykernel)",
   "language": "python",
   "name": "python3"
  },
  "language_info": {
   "codemirror_mode": {
    "name": "ipython",
    "version": 3
   },
   "file_extension": ".py",
   "mimetype": "text/x-python",
   "name": "python",
   "nbconvert_exporter": "python",
   "pygments_lexer": "ipython3",
   "version": "3.12.0"
  }
 },
 "nbformat": 4,
 "nbformat_minor": 5
}
